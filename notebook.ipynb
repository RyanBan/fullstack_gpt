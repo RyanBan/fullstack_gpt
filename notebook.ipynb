{
 "cells": [
  {
   "cell_type": "code",
   "execution_count": 1,
   "metadata": {},
   "outputs": [],
   "source": [
    "# from langchain.llms.openai import OpenAI\n",
    "from langchain.chat_models import ChatOpenAI\n",
    "from langchain.prompts import ChatPromptTemplate, MessagesPlaceholder\n",
    "from langchain.prompts.few_shot import FewShotChatMessagePromptTemplate\n",
    "from langchain.callbacks import StreamingStdOutCallbackHandler\n",
    "from langchain.memory import ConversationSummaryBufferMemory\n",
    "from langchain.schema.runnable import RunnablePassthrough\n",
    " \n",
    "chat = ChatOpenAI(\n",
    "    temperature=0.1,\n",
    "    streaming=True,\n",
    "    callbacks=[StreamingStdOutCallbackHandler()],\n",
    ")\n",
    "\n",
    "memory = ConversationSummaryBufferMemory(\n",
    "    llm=chat,\n",
    "    max_token_limit=120,\n",
    "    return_messages=True,\n",
    ")\n",
    "\n",
    "movie_summarize_example = [\n",
    "    {\n",
    "        \"question\": \"Top Gun\",\n",
    "        \"answer\": \"🛩️👨‍✈️🔥\",\n",
    "    },\n",
    "    {\n",
    "        \"question\": \"The Godfather\",\n",
    "        \"answer\": \"👨‍👨‍👦🔫🍝\",\n",
    "    },\n",
    "    {\n",
    "        \"question\": \"Soul\",\n",
    "        \"answer\": \"🎷👻💡\"\n",
    "    }\n",
    "]\n",
    "\n",
    "movie_summarize_example_prompt = ChatPromptTemplate.from_messages(\n",
    "    [\n",
    "        (\"human\", \"{question}\"),\n",
    "        (\"ai\", \"{answer}\"),\n",
    "    ]\n",
    ")\n",
    "\n",
    "example_prompt = FewShotChatMessagePromptTemplate(\n",
    "    example_prompt=movie_summarize_example_prompt,\n",
    "    examples=movie_summarize_example,\n",
    ")\n",
    "\n",
    "final_prompt = ChatPromptTemplate.from_messages(\n",
    "    [\n",
    "        (\"system\", \"You are a movie summarizer. If human gives you movie title, Get the short synopsis, and summarize in to 3 emojis. If you dont know the movie title, answer with person shrugging emjois 3 times. If human ask general question, answer normally. Remember, when you reply with emoji, it always should be 3.\"),\n",
    "        example_prompt,\n",
    "        MessagesPlaceholder(variable_name=\"history\"),\n",
    "        (\"human\", \"{question}\"),\n",
    "    ]\n",
    ")\n",
    "\n",
    "def load_memory(_):\n",
    "    return memory.load_memory_variables({}).get(\"history\", [])\n",
    "\n",
    "chain = RunnablePassthrough.assign(history=load_memory) | final_prompt | chat\n",
    "\n",
    "def invoke_chain(question):\n",
    "    result = chain.invoke({\"question\": question})\n",
    "    memory.save_context(\n",
    "        {\"input\": question},\n",
    "        {\"output\": result.content},\n",
    "    )\n"
   ]
  },
  {
   "cell_type": "code",
   "execution_count": 2,
   "metadata": {},
   "outputs": [
    {
     "name": "stdout",
     "output_type": "stream",
     "text": [
      "🛩️👨‍✈️🔥"
     ]
    }
   ],
   "source": [
    "invoke_chain(\"Top Gun\")\n"
   ]
  },
  {
   "cell_type": "code",
   "execution_count": 3,
   "metadata": {},
   "outputs": [
    {
     "name": "stdout",
     "output_type": "stream",
     "text": [
      "🌿🌌💙"
     ]
    }
   ],
   "source": [
    "invoke_chain(\"Avatar\")"
   ]
  },
  {
   "cell_type": "code",
   "execution_count": 4,
   "metadata": {},
   "outputs": [
    {
     "name": "stdout",
     "output_type": "stream",
     "text": [
      "🤷‍♂️🤷‍♂️🤷‍♂️"
     ]
    }
   ],
   "source": [
    "invoke_chain(\"blabla  pokemon\")"
   ]
  },
  {
   "cell_type": "code",
   "execution_count": 5,
   "metadata": {},
   "outputs": [
    {
     "name": "stdout",
     "output_type": "stream",
     "text": [
      "🎶💃🌟"
     ]
    }
   ],
   "source": [
    "invoke_chain(\"lala land\")"
   ]
  },
  {
   "cell_type": "code",
   "execution_count": 6,
   "metadata": {},
   "outputs": [
    {
     "name": "stdout",
     "output_type": "stream",
     "text": [
      "Top GunThe human mentions \"Top Gun\" and the AI responds with airplane and pilot emojis, indicating excitement or approval."
     ]
    }
   ],
   "source": [
    "invoke_chain(\"What was previous movie name I asked for?\")"
   ]
  },
  {
   "cell_type": "code",
   "execution_count": 7,
   "metadata": {},
   "outputs": [
    {
     "name": "stdout",
     "output_type": "stream",
     "text": [
      "You have asked for 5 movies so far.The human mentions \"Top Gun\" and the AI responds with airplane and pilot emojis, indicating excitement or approval. When the human brings up \"Avatar,\" the AI responds with emojis representing nature, space, and the color blue."
     ]
    }
   ],
   "source": [
    "invoke_chain(\"How many movis I asked so far?\")"
   ]
  }
 ],
 "metadata": {
  "kernelspec": {
   "display_name": "env",
   "language": "python",
   "name": "python3"
  },
  "language_info": {
   "codemirror_mode": {
    "name": "ipython",
    "version": 3
   },
   "file_extension": ".py",
   "mimetype": "text/x-python",
   "name": "python",
   "nbconvert_exporter": "python",
   "pygments_lexer": "ipython3",
   "version": "3.11.9"
  }
 },
 "nbformat": 4,
 "nbformat_minor": 2
}
