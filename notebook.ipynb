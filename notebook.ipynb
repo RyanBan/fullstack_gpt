{
 "cells": [
  {
   "cell_type": "code",
   "execution_count": 9,
   "metadata": {},
   "outputs": [
    {
     "name": "stdout",
     "output_type": "stream",
     "text": [
      "\n",
      "        Here is what I analysed:\n",
      "\n",
      "        Director: Yoon Je-kyoon\n",
      "        Main Cast: Hwang Jung-min, Kim Yunjin, Oh Dal-su, Jang Young-nam\n",
      "        Budget: $16 million\n",
      "        Box Office: $105 million\n",
      "        Genre: Drama\n",
      "        Synopsis: The film follows the life of a man named Deok-soo, who sacrifices everything to provide for his family during tumultuous times in South Korea, spanning from the Korean War to the modern era."
     ]
    },
    {
     "data": {
      "text/plain": [
       "AIMessageChunk(content='\\n        Here is what I analysed:\\n\\n        Director: Yoon Je-kyoon\\n        Main Cast: Hwang Jung-min, Kim Yunjin, Oh Dal-su, Jang Young-nam\\n        Budget: $16 million\\n        Box Office: $105 million\\n        Genre: Drama\\n        Synopsis: The film follows the life of a man named Deok-soo, who sacrifices everything to provide for his family during tumultuous times in South Korea, spanning from the Korean War to the modern era.')"
      ]
     },
     "execution_count": 9,
     "metadata": {},
     "output_type": "execute_result"
    }
   ],
   "source": [
    "# from langchain.llms.openai import OpenAI\n",
    "from langchain.chat_models import ChatOpenAI\n",
    "from langchain.prompts import ChatPromptTemplate\n",
    "from langchain.prompts.few_shot import FewShotChatMessagePromptTemplate\n",
    "from langchain.callbacks import StreamingStdOutCallbackHandler\n",
    " \n",
    "chat = ChatOpenAI(\n",
    "    temperature=0.1,\n",
    "    streaming=True,\n",
    "    callbacks=[StreamingStdOutCallbackHandler()],\n",
    ")\n",
    "\n",
    "movie_analysis_examples = [\n",
    "    {\n",
    "        \"movie\": \"Inside Out 2\",\n",
    "        \"answer\": \"\"\"\n",
    "        Here is what I analysed:\n",
    "\n",
    "        Director: Kelsey Mann\n",
    "        Main Cast: Amy Poehler, Maya Hawke, Phyllis Smith, Lewis Black, Tony Hale\n",
    "        Budget: $200 million\n",
    "        Box Office: $1.699 billion\n",
    "        Genre: Animated Coming-of-Age\n",
    "        Synopsis: Riley navigates her teenage years with new emotions like Anxiety and Envy joining Joy, Sadness, and the original crew.\n",
    "\n",
    "        \"\"\",\n",
    "    },\n",
    "    {\n",
    "        \"movie\": \"Soul\",\n",
    "        \"answer\": \"\"\"\n",
    "        Here is what I analysed:\n",
    "\n",
    "        Director: Pete Docter\n",
    "        Main Cast: Jamie Foxx, Tina Fey, Graham Norton, Rachel House, Alice Braga\n",
    "        Budget: $150 million\n",
    "        Box Office: $120 million\n",
    "        Genre: Animated Fantasy Comedy-Drama\n",
    "        Synopsis:  Joe Gardner, a passionate jazz musician, finds himself in the afterlife after an accident. Teaming up with soul 22, he embarks on a journey to discover the true meaning of life.\n",
    "        \n",
    "        \"\"\",\n",
    "    }\n",
    "]\n",
    "\n",
    "movie_analysis_example_prompt = ChatPromptTemplate.from_messages(\n",
    "    [\n",
    "        (\"human\", \"Analyse movie name {movie}\"),\n",
    "        (\"ai\", \"{answer}\"),\n",
    "    ]\n",
    ")\n",
    "\n",
    "example_prompt = FewShotChatMessagePromptTemplate(\n",
    "    example_prompt=movie_analysis_example_prompt,\n",
    "    examples=movie_analysis_examples,\n",
    ")\n",
    "\n",
    "\n",
    "final_prompt = ChatPromptTemplate.from_messages(\n",
    "    [\n",
    "        (\"system\", \"You are a movie analysis. You explain about movie information precisely, and shortly.\"),\n",
    "        example_prompt,\n",
    "        (\"human\", \"Analyse movie name {movie}\"),\n",
    "    ]\n",
    ")\n",
    "\n",
    "chain = final_prompt | chat\n",
    "\n",
    "chain.invoke({\"movie\": \"ode to my father\"})\n",
    "\n",
    "\n"
   ]
  }
 ],
 "metadata": {
  "kernelspec": {
   "display_name": "env",
   "language": "python",
   "name": "python3"
  },
  "language_info": {
   "codemirror_mode": {
    "name": "ipython",
    "version": 3
   },
   "file_extension": ".py",
   "mimetype": "text/x-python",
   "name": "python",
   "nbconvert_exporter": "python",
   "pygments_lexer": "ipython3",
   "version": "3.11.9"
  }
 },
 "nbformat": 4,
 "nbformat_minor": 2
}
