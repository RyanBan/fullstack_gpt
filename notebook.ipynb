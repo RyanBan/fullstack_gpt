{
 "cells": [
  {
   "cell_type": "code",
   "execution_count": 4,
   "metadata": {},
   "outputs": [
    {
     "name": "stdout",
     "output_type": "stream",
     "text": [
      "In the land of code, where serpents slither,\n",
      "There lies a language that makes us all a-quiver.\n",
      "Python, oh Python, so sleek and so sly,\n",
      "With indentation rules that make us all sigh.\n",
      "\n",
      "No curly braces or semicolons here,\n",
      "Just clean, readable code, oh so clear.\n",
      "From data structures to web apps galore,\n",
      "Python's versatility we simply adore.\n",
      "\n",
      "With libraries aplenty, like NumPy and Flask,\n",
      "Python helps us tackle any coding task.\n",
      "So here's to Python, our trusty friend,\n",
      "On which we can always depend.This poem is about a programming language called Python. Let's break it down:\n",
      "\n",
      "1. \"In the land of code, where serpents slither,\" - This line sets the scene for the poem, comparing the world of programming to a land where serpents (referring to Python's logo, which is a snake) move around.\n",
      "\n",
      "2. \"There lies a language that makes us all a-quiver.\" - This line suggests that Python is a language that excites and interests programmers.\n",
      "\n",
      "3. \"Python, oh Python, so sleek and so sly,\" - Here, the poet describes Python as smooth and clever.\n",
      "\n",
      "4. \"With indentation rules that make us all sigh.\" - Python is known for its strict indentation rules, which the poet suggests can be frustrating but are important for writing clean code.\n",
      "\n",
      "5. \"No curly braces or semicolons here,\" - Unlike some other programming languages, Python does not use curly braces or semicolons to denote code blocks or statements.\n",
      "\n",
      "6. \"Just clean, readable code, oh so clear.\" - Python is praised for its readability and clarity, making it easier for programmers to understand and work with.\n",
      "\n",
      "7. \"From data structures to web apps galore,\" - Python can be used for a wide range of applications, from working with data structures to building web applications.\n",
      "\n",
      "8. \"Python's versatility we simply adore.\" - The poet expresses admiration for Python's flexibility and ability to adapt to different tasks.\n",
      "\n",
      "9. \"With libraries aplenty, like NumPy and Flask,\" - Python has a rich ecosystem of libraries that extend its functionality, such as NumPy for numerical computing and Flask for web development.\n",
      "\n",
      "10. \"Python helps us tackle any coding task.\" - Python is seen as a versatile language that can be used for various programming challenges.\n",
      "\n",
      "11. \"So here's to Python, our trusty friend,\" - The poet concludes by praising Python as a reliable and dependable tool for programmers."
     ]
    },
    {
     "data": {
      "text/plain": [
       "AIMessageChunk(content='This poem is about a programming language called Python. Let\\'s break it down:\\n\\n1. \"In the land of code, where serpents slither,\" - This line sets the scene for the poem, comparing the world of programming to a land where serpents (referring to Python\\'s logo, which is a snake) move around.\\n\\n2. \"There lies a language that makes us all a-quiver.\" - This line suggests that Python is a language that excites and interests programmers.\\n\\n3. \"Python, oh Python, so sleek and so sly,\" - Here, the poet describes Python as smooth and clever.\\n\\n4. \"With indentation rules that make us all sigh.\" - Python is known for its strict indentation rules, which the poet suggests can be frustrating but are important for writing clean code.\\n\\n5. \"No curly braces or semicolons here,\" - Unlike some other programming languages, Python does not use curly braces or semicolons to denote code blocks or statements.\\n\\n6. \"Just clean, readable code, oh so clear.\" - Python is praised for its readability and clarity, making it easier for programmers to understand and work with.\\n\\n7. \"From data structures to web apps galore,\" - Python can be used for a wide range of applications, from working with data structures to building web applications.\\n\\n8. \"Python\\'s versatility we simply adore.\" - The poet expresses admiration for Python\\'s flexibility and ability to adapt to different tasks.\\n\\n9. \"With libraries aplenty, like NumPy and Flask,\" - Python has a rich ecosystem of libraries that extend its functionality, such as NumPy for numerical computing and Flask for web development.\\n\\n10. \"Python helps us tackle any coding task.\" - Python is seen as a versatile language that can be used for various programming challenges.\\n\\n11. \"So here\\'s to Python, our trusty friend,\" - The poet concludes by praising Python as a reliable and dependable tool for programmers.')"
      ]
     },
     "execution_count": 4,
     "metadata": {},
     "output_type": "execute_result"
    }
   ],
   "source": [
    "# from langchain.llms.openai import OpenAI\n",
    "from langchain.chat_models import ChatOpenAI\n",
    "from langchain.prompts import ChatPromptTemplate\n",
    "from langchain.callbacks import StreamingStdOutCallbackHandler\n",
    " \n",
    "chat = ChatOpenAI(\n",
    "    temperature=0.1,\n",
    "    streaming=True,\n",
    "    callbacks=[StreamingStdOutCallbackHandler()],\n",
    ")\n",
    "\n",
    "poet_prompt = ChatPromptTemplate.from_messages(\n",
    "    [\n",
    "        (\n",
    "         \"system\",\n",
    "         \"You are the poet, who has background knowldge of programming languages. You generate inspiring poems about programing language. You are poems are popular because they are witty and funny. All computer science students love your poem.\"   \n",
    "        ),\n",
    "        (\"human\", \"I want to read poem about {programming_lang}\"),\n",
    "    ]\n",
    ")\n",
    "\n",
    "poet_chain = poet_prompt | chat\n",
    "\n",
    "student_prompt = ChatPromptTemplate.from_messages(\n",
    "    [\n",
    "        (\n",
    "         \"system\",\n",
    "         \"You are the computer science student who always analyze the poem that realted to programming language. Once you read the poem about programming language, you explain each lines of poem like you explain to 5 years old. If poem is not realted to programming language, you dont analyze. You just says, this poem is not a programming language poem.\"\n",
    "        ),\n",
    "        (\"human\", \"{programming_poem}\"),\n",
    "    ]\n",
    ")\n",
    "\n",
    "student_chain = student_prompt | chat\n",
    "\n",
    "\n",
    "final_chain = {\"programming_poem\":poet_chain} | student_chain\n",
    "\n",
    "final_chain.invoke({\"programming_lang\":\"python\"})\n",
    "\n",
    "\n",
    "\n",
    "\n",
    "\n"
   ]
  }
 ],
 "metadata": {
  "kernelspec": {
   "display_name": "env",
   "language": "python",
   "name": "python3"
  },
  "language_info": {
   "codemirror_mode": {
    "name": "ipython",
    "version": 3
   },
   "file_extension": ".py",
   "mimetype": "text/x-python",
   "name": "python",
   "nbconvert_exporter": "python",
   "pygments_lexer": "ipython3",
   "version": "3.11.9"
  }
 },
 "nbformat": 4,
 "nbformat_minor": 2
}
